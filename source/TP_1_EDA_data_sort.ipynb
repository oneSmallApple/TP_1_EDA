{
 "cells": [
  {
   "cell_type": "code",
   "execution_count": null,
   "metadata": {},
   "outputs": [],
   "source": [
    "import numpy as np\n",
    "import pandas as pd\n",
    "import re\n",
    "import matplotlib.pyplot as plt\n",
    "import seaborn as sns"
   ]
  },
  {
   "cell_type": "code",
   "execution_count": null,
   "metadata": {},
   "outputs": [],
   "source": [
    "sdf_excel = pd.read_excel(\"../../data/saramin_df.xlsx\",engine=\"openpyxl\")"
   ]
  },
  {
   "cell_type": "code",
   "execution_count": null,
   "metadata": {},
   "outputs": [],
   "source": [
    "sdf_excel.drop(columns=[\"Unnamed: 0\"],inplace=True)"
   ]
  },
  {
   "cell_type": "code",
   "execution_count": null,
   "metadata": {},
   "outputs": [],
   "source": [
    "sdf_excel[\"ML/DL\"] = np.nan\n",
    "sdf_excel[\"로봇 설계 및 제작\"] = np.nan\n",
    "sdf_excel[\"ROS\"] = np.nan\n",
    "sdf_excel[\"임베디드\"] = np.nan\n",
    "sdf_excel[\"주율주행\"] = np.nan\n",
    "sdf_excel[\"제어\"] = np.nan\n",
    "\n",
    "sdf_excel[\"직무\"].replace(np.nan,\"\",inplace=True)\n",
    "sdf_excel[\"세부정보\"].replace(np.nan,\"\",inplace=True)\n",
    "sdf_excel[\"세부정보\"].replace(np.nan,\"\",inplace=True)\n",
    "sdf_excel[\"ML/DL\"].replace(np.nan,0,inplace=True)\n",
    "sdf_excel[\"로봇 설계 및 제작\"].replace(np.nan,0,inplace=True)\n",
    "sdf_excel[\"ROS\"].replace(np.nan,0,inplace=True)\n",
    "sdf_excel[\"임베디드\"].replace(np.nan,0,inplace=True)\n",
    "sdf_excel[\"자율주행\"].replace(np.nan,0,inplace=True)\n",
    "sdf_excel[\"제어\"].replace(np.nan,0,inplace=True)"
   ]
  },
  {
   "cell_type": "code",
   "execution_count": null,
   "metadata": {},
   "outputs": [],
   "source": [
    "# sdf_excel[\"세부정보\"].replace(np.nan,\"\",inplace=True)"
   ]
  },
  {
   "attachments": {},
   "cell_type": "markdown",
   "metadata": {},
   "source": [
    "### ROS 관련 공고 검색"
   ]
  },
  {
   "cell_type": "code",
   "execution_count": null,
   "metadata": {},
   "outputs": [],
   "source": [
    "sdf_excel.loc[sdf_excel[\"세부정보\"].str.lower().str.contains(\"ros\"),[\"ROS\"]] = 1\n",
    "sdf_excel.loc[sdf_excel[\"세부정보\"].str.lower().str.contains(\"robot operating\"),[\"ROS\"]] = 1\n",
    "sdf_excel.loc[sdf_excel[\"세부정보\"].str.lower().str.contains(\"robot operation\"),[\"ROS\"]] = 1\n",
    "sdf_excel.loc[sdf_excel[\"세부정보\"].replace(\" \",\"\").str.contains(\"로봇운영\"),[\"ROS\"]] = 1"
   ]
  },
  {
   "attachments": {},
   "cell_type": "markdown",
   "metadata": {},
   "source": [
    "### 자율주행 관련 공고 검색"
   ]
  },
  {
   "cell_type": "code",
   "execution_count": null,
   "metadata": {},
   "outputs": [],
   "source": [
    "sdf_excel.loc[sdf_excel[\"세부정보\"].replace(\" \",\"\").str.contains(\"자율주행\"),[\"자율주행\"]] = 1\n",
    "sdf_excel.loc[sdf_excel[\"세부정보\"].replace(\" \",\"\").str.contains(\"경로생성\"),[\"자율주행\"]] = 1\n",
    "sdf_excel.loc[sdf_excel[\"세부정보\"].replace(\" \",\"\").str.contains(\"장애물회피\"),[\"자율주행\"]] = 1\n",
    "sdf_excel.loc[sdf_excel[\"세부정보\"].replace(\" \",\"\").str.contains(\"사물인식\"),[\"자율주행\"]] = 1\n",
    "sdf_excel.loc[sdf_excel[\"세부정보\"].replace(\" \",\"\").str.contains(\"물체인식\"),[\"자율주행\"]] = 1\n",
    "sdf_excel.loc[sdf_excel[\"세부정보\"].replace(\" \",\"\").str.contains(\"객체인식\"),[\"자율주행\"]] = 1\n",
    "sdf_excel.loc[sdf_excel[\"세부정보\"].str.lower().str.contains(\"slam\"),[\"자율주행\"]] = 1\n",
    "sdf_excel.loc[sdf_excel[\"세부정보\"].str.lower().str.contains(\"path planning\"),[\"자율주행\"]] = 1\n",
    "sdf_excel.loc[sdf_excel[\"세부정보\"].str.lower().str.contains(\"obstacle avoidance\"),[\"자율주행\"]] = 1\n",
    "sdf_excel.loc[sdf_excel[\"세부정보\"].str.lower().str.contains(\"lidar\"),[\"자율주행\"]] = 1"
   ]
  },
  {
   "attachments": {},
   "cell_type": "markdown",
   "metadata": {},
   "source": [
    "### 기구설계 관련 공고 검색"
   ]
  },
  {
   "cell_type": "code",
   "execution_count": null,
   "metadata": {},
   "outputs": [],
   "source": [
    "sdf_excel.loc[sdf_excel[\"세부정보\"].str.lower().str.contains(\"cad\"),[\"로봇 설계 및 제작\"]] = 1\n",
    "sdf_excel.loc[sdf_excel[\"세부정보\"].str.lower().str.contains(\"cae\"),[\"로봇 설계 및 제작\"]] = 1\n",
    "sdf_excel.loc[sdf_excel[\"세부정보\"].str.lower().str.contains(\"nx\"),[\"로봇 설계 및 제작\"]] = 1\n",
    "sdf_excel.loc[sdf_excel[\"세부정보\"].str.lower().str.contains(\"solidwrorks\"),[\"로봇 설계 및 제작\"]] = 1\n",
    "sdf_excel.loc[sdf_excel[\"세부정보\"].str.lower().str.contains(\"catia\"),[\"로봇 설계 및 제작\"]] = 1\n",
    "sdf_excel.loc[sdf_excel[\"세부정보\"].str.lower().str.contains(\"inventor\"),[\"로봇 설계 및 제작\"]] = 1\n",
    "sdf_excel.loc[sdf_excel[\"세부정보\"].str.contains(\"캐드\"),[\"로봇 설계 및 제작\"]] = 1\n",
    "sdf_excel.loc[sdf_excel[\"세부정보\"].str.contains(\"솔리드웍스\"),[\"로봇 설계 및 제작\"]] = 1\n",
    "sdf_excel.loc[sdf_excel[\"세부정보\"].str.contains(\"카티아\"),[\"로봇 설계 및 제작\"]] = 1\n",
    "sdf_excel.loc[sdf_excel[\"세부정보\"].str.contains(\"인벤터\"),[\"로봇 설계 및 제작\"]] = 1\n",
    "sdf_excel.loc[sdf_excel[\"세부정보\"].str.contains(\"동역학\"),[\"로봇 설계 및 제작\"]] = 1\n",
    "sdf_excel.loc[sdf_excel[\"세부정보\"].str.contains(\"기구학\"),[\"로봇 설계 및 제작\"]] = 1\n",
    "sdf_excel.loc[sdf_excel[\"세부정보\"].replace(\" \",\"\").str.contains(\"구조해석\"),[\"로봇 설계 및 제작\"]] = 1"
   ]
  },
  {
   "attachments": {},
   "cell_type": "markdown",
   "metadata": {},
   "source": [
    "### 머신러닝 관련 공고 검색"
   ]
  },
  {
   "cell_type": "code",
   "execution_count": null,
   "metadata": {},
   "outputs": [],
   "source": [
    "sdf_excel.loc[sdf_excel[\"세부정보\"].str.lower().str.contains(\"machine learning\"),[\"ML/DL\"]] = 1\n",
    "sdf_excel.loc[sdf_excel[\"세부정보\"].str.lower().str.contains(\"deep learning\"),[\"ML/DL\"]] = 1\n",
    "sdf_excel.loc[sdf_excel[\"세부정보\"].str.lower().str.contains(\"ml\"),[\"ML/DL\"]] = 1\n",
    "sdf_excel.loc[sdf_excel[\"세부정보\"].str.lower().str.contains(\"dl\"),[\"ML/DL\"]] = 1\n",
    "sdf_excel.loc[sdf_excel[\"세부정보\"].str.lower().str.contains(\"ai\"),[\"ML/DL\"]] = 1\n",
    "sdf_excel.loc[sdf_excel[\"세부정보\"].str.lower().str.contains(\"a/i\"),[\"ML/DL\"]] = 1\n",
    "sdf_excel.loc[sdf_excel[\"세부정보\"].replace(\" \",\"\").str.contains(\"머신러닝\"),[\"ML/DL\"]] = 1\n",
    "sdf_excel.loc[sdf_excel[\"세부정보\"].replace(\" \",\"\").str.contains(\"기계학습\"),[\"ML/DL\"]] = 1\n",
    "sdf_excel.loc[sdf_excel[\"세부정보\"].replace(\" \",\"\").str.contains(\"딥러닝\"),[\"ML/DL\"]] = 1\n",
    "sdf_excel.loc[sdf_excel[\"세부정보\"].replace(\" \",\"\").str.contains(\"강화학습\"),[\"ML/DL\"]] = 1\n",
    "sdf_excel.loc[sdf_excel[\"세부정보\"].replace(\" \",\"\").str.contains(\"인공지능\"),[\"ML/DL\"]] = 1"
   ]
  },
  {
   "attachments": {},
   "cell_type": "markdown",
   "metadata": {},
   "source": [
    "### 임베디드 관련 공고 검색"
   ]
  },
  {
   "cell_type": "code",
   "execution_count": null,
   "metadata": {},
   "outputs": [],
   "source": [
    "sdf_excel.loc[sdf_excel[\"세부정보\"].str.contains(\"임베디드\"),[\"임베디드\"]] = 1\n",
    "sdf_excel.loc[sdf_excel[\"세부정보\"].str.lower().str.contains(\"embedded\"),[\"임베디드\"]] = 1\n",
    "sdf_excel.loc[sdf_excel[\"세부정보\"].str.lower().str.contains(\"mcu\"),[\"임베디드\"]] = 1\n",
    "sdf_excel.loc[sdf_excel[\"세부정보\"].str.lower().str.contains(\"pcb\"),[\"임베디드\"]] = 1\n",
    "sdf_excel.loc[sdf_excel[\"세부정보\"].str.lower().str.contains(\"sensor\"),[\"임베디드\"]] = 1\n",
    "sdf_excel.loc[sdf_excel[\"세부정보\"].str.lower().str.contains(\"rtos\"),[\"임베디드\"]] = 1\n",
    "sdf_excel.loc[sdf_excel[\"세부정보\"].str.lower().str.contains(\"firmware\"),[\"임베디드\"]] = 1\n",
    "sdf_excel.loc[sdf_excel[\"세부정보\"].str.lower().str.contains(\"can\"),[\"임베디드\"]] = 1\n",
    "sdf_excel.loc[sdf_excel[\"세부정보\"].str.contains(\"센서\"),[\"임베디드\"]] = 1\n",
    "sdf_excel.loc[sdf_excel[\"세부정보\"].str.contains(\"펌웨어\"),[\"임베디드\"]] = 1\n",
    "sdf_excel.loc[sdf_excel[\"세부정보\"].str.contains(\"회로\"),[\"임베디드\"]] = 1"
   ]
  },
  {
   "attachments": {},
   "cell_type": "markdown",
   "metadata": {},
   "source": [
    "### 제어 및 관련 공고 검색"
   ]
  },
  {
   "cell_type": "code",
   "execution_count": null,
   "metadata": {},
   "outputs": [],
   "source": [
    "sdf_excel.loc[sdf_excel[\"세부정보\"].str.contains(\"자동화\"),[\"제어\"]] = 1\n",
    "sdf_excel.loc[sdf_excel[\"세부정보\"].str.contains(\"제어\"),[\"제어\"]] = 1\n",
    "sdf_excel.loc[sdf_excel[\"세부정보\"].str.contains(\"시운전\"),[\"제어\"]] = 0    # 시운전 공고는 제외"
   ]
  },
  {
   "cell_type": "markdown",
   "metadata": {},
   "source": [
    "#### 데이터 분석 과정을 위해 태그별로 1을 각기 다르게 만들었던 데이터프레임을 생성"
   ]
  },
  {
   "cell_type": "code",
   "execution_count": null,
   "metadata": {},
   "outputs": [],
   "source": [
    "df_auto = sdf_excel[sdf_excel['자율주행']==1]\n",
    "df_ml = sdf_excel[sdf_excel['ML/DL']==1]\n",
    "df_ros = sdf_excel[sdf_excel['ROS']==1]\n",
    "df_dsg = sdf_excel[sdf_excel['로봇 설계 및 제작']==1]\n",
    "df_emb = sdf_excel[sdf_excel['임베디드']==1]\n",
    "df_ctr = sdf_excel[sdf_excel['제어']==1]"
   ]
  },
  {
   "cell_type": "code",
   "execution_count": null,
   "metadata": {},
   "outputs": [],
   "source": [
    "df_auto.reset_index(inplace=True)\n",
    "df_ml.reset_index(inplace=True)\n",
    "df_ros.reset_index(inplace=True)\n",
    "df_dsg.reset_index(inplace=True)\n",
    "df_emb.reset_index(inplace=True)\n",
    "df_ctr.reset_index(inplace=True)"
   ]
  },
  {
   "cell_type": "code",
   "execution_count": null,
   "metadata": {},
   "outputs": [],
   "source": [
    "del df_auto['index']\n",
    "del df_ml['index']\n",
    "del df_ros['index']\n",
    "del df_dsg['index']\n",
    "del df_emb['index']\n",
    "del df_ctr['index']"
   ]
  },
  {
   "cell_type": "code",
   "execution_count": null,
   "metadata": {},
   "outputs": [],
   "source": [
    "from konlpy.tag import Okt\n",
    "from collections import Counter\n",
    "import nltk\n",
    "from nltk.tokenize import RegexpTokenizer\n",
    "from nltk.stem.porter import PorterStemmer"
   ]
  },
  {
   "cell_type": "code",
   "execution_count": null,
   "metadata": {},
   "outputs": [],
   "source": [
    "# 특수문자를 전부 제거\n",
    "compile = re.compile(\"[-_=+,#/\\?:^$.@*\\\"※~&%ㆍ!』\\\\‘|\\(\\)\\[\\]\\<\\>`\\'…》]\")\n",
    "for i in range(len(df_auto)):\n",
    "    # 특수문자를 매치 후 \"\"로 변경\n",
    "    tmp = compile.sub(\" \",df_auto[\"직무\"][i])\n",
    "    df_auto[\"직무\"][i] = tmp.lower()"
   ]
  },
  {
   "cell_type": "code",
   "execution_count": null,
   "metadata": {},
   "outputs": [],
   "source": [
    "# 어근 동일화, 토큰화, 불용어 제거를 위해 영어로만 구성된 리스트를 생성\n",
    "engLst = []\n",
    "compile = re.compile(\"[가-힣ㄱ-하-ㅣ0-9]\")\n",
    "for i in range(len(df_auto)):\n",
    "    tmp = compile.sub(\"\",df_auto[\"직무\"][i])\n",
    "    engLst.append(tmp.strip())"
   ]
  },
  {
   "cell_type": "code",
   "execution_count": null,
   "metadata": {},
   "outputs": [],
   "source": [
    "# 영문에서 어근 동일화,토큰화를,불용어제거 수행\n",
    "# PorterStemmer로 어근 동일화\n",
    "# RegexpTokenizer로 토큰화\n",
    "# stopwords.words로 불용어 제거\n",
    "from nltk.corpus import stopwords\n",
    "stopWordEng = set(stopwords.words('english'))\n",
    "#lstC = [i for i in lstC if i not in stopWordEng]    # 불용어 제거 예시문\n",
    "pStemmer = PorterStemmer()\n",
    "token = RegexpTokenizer('[\\w]+')\n",
    "result1 = [token.tokenize(i) for i in engLst]\n",
    "result2= [r for i in result1 for r in i]\n",
    "engFinal = [pStemmer.stem(i) for i in result2 if not i in stopWordEng]"
   ]
  },
  {
   "cell_type": "code",
   "execution_count": null,
   "metadata": {},
   "outputs": [],
   "source": [
    "# 명사만 뽑기위해 한글만 남긴 리스트를 생성\n",
    "korLst = []\n",
    "compile = re.compile(\"[a-zA-Z0-9]\")\n",
    "for i in range(len(df_auto)):\n",
    "    tmp = compile.sub(\"\",df_auto[\"직무\"][i])\n",
    "    korLst.append(tmp)"
   ]
  },
  {
   "cell_type": "code",
   "execution_count": null,
   "metadata": {},
   "outputs": [],
   "source": [
    "# print(len(engLst),len(korLst))"
   ]
  },
  {
   "cell_type": "code",
   "execution_count": null,
   "metadata": {},
   "outputs": [],
   "source": [
    "# 한글은 명사만 추출\n",
    "# 한글은 조사나 접속사를 제거하면 불용어 제거 불필요\n",
    "okt = Okt()\n",
    "result = [okt.nouns(i) for i in korLst]\n",
    "korFinal = [r for i in result for r in i]"
   ]
  },
  {
   "cell_type": "code",
   "execution_count": null,
   "metadata": {},
   "outputs": [],
   "source": [
    "# job_list = np.array( ).flatten().tolist()"
   ]
  },
  {
   "cell_type": "code",
   "execution_count": null,
   "metadata": {},
   "outputs": [],
   "source": [
    "wordData = engLst + korFinal"
   ]
  },
  {
   "cell_type": "code",
   "execution_count": null,
   "metadata": {},
   "outputs": [],
   "source": [
    "count  = Counter(wordData)\n",
    "frequency = count.most_common(30)\n",
    "frequency"
   ]
  },
  {
   "cell_type": "code",
   "execution_count": null,
   "metadata": {},
   "outputs": [],
   "source": [
    "job_count = pd.Series(wordData).value_counts().head(30)\n",
    "auto_freq = pd.DataFrame(job_count,columns=[\"빈도\"]).reset_index()"
   ]
  },
  {
   "cell_type": "code",
   "execution_count": null,
   "metadata": {},
   "outputs": [],
   "source": [
    "auto_freq.rename(columns={\"index\":\"단어\"},inplace=True)"
   ]
  },
  {
   "cell_type": "code",
   "execution_count": null,
   "metadata": {},
   "outputs": [],
   "source": [
    "# auto_freq"
   ]
  },
  {
   "cell_type": "code",
   "execution_count": null,
   "metadata": {},
   "outputs": [],
   "source": [
    "auto_freq.to_csv(\"../../data/word_ml_30.csv\",encoding=\"utf-8\")\n",
    "auto_freq.to_excel('../../data/word_ml_30.xlsx',engine=\"xlsxwriter\")"
   ]
  }
 ],
 "metadata": {
  "kernelspec": {
   "display_name": "eda_venv",
   "language": "python",
   "name": "python3"
  },
  "language_info": {
   "codemirror_mode": {
    "name": "ipython",
    "version": 3
   },
   "file_extension": ".py",
   "mimetype": "text/x-python",
   "name": "python",
   "nbconvert_exporter": "python",
   "pygments_lexer": "ipython3",
   "version": "3.8.10"
  },
  "orig_nbformat": 4,
  "vscode": {
   "interpreter": {
    "hash": "a02c191810af046b7f23e53dbd133b840931cace22085e3118e1902d48bd5dbd"
   }
  }
 },
 "nbformat": 4,
 "nbformat_minor": 2
}
