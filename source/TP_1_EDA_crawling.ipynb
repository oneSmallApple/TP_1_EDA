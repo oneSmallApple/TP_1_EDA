{
 "cells": [
  {
   "cell_type": "code",
   "execution_count": 1,
   "metadata": {},
   "outputs": [],
   "source": [
    "import time\n",
    "import numpy as np\n",
    "import pandas as pd\n",
    "from urllib.request import Request, urlopen\n",
    "from fake_useragent import UserAgent\n",
    "from selenium import webdriver\n",
    "from selenium.webdriver.chrome.service import Service\n",
    "from selenium.webdriver.support.ui import Select\n",
    "from selenium.webdriver.common.by import By\n",
    "from selenium.webdriver.common.keys import Keys\n",
    "import urllib\n",
    "import tqdm\n",
    "import warnings\n",
    "warnings.simplefilter(action=\"ignore\",category=FutureWarning)\n",
    "\n",
    "chrome_options = webdriver.ChromeOptions()"
   ]
  },
  {
   "cell_type": "code",
   "execution_count": 2,
   "metadata": {},
   "outputs": [],
   "source": [
    "url = \"https://www.saramin.co.kr/zf_user/\""
   ]
  },
  {
   "cell_type": "code",
   "execution_count": 3,
   "metadata": {},
   "outputs": [],
   "source": [
    "driver = webdriver.Chrome(service = Service('data_analysis/Driver/chromedriver'),options=chrome_options)"
   ]
  },
  {
   "cell_type": "code",
   "execution_count": null,
   "metadata": {},
   "outputs": [],
   "source": [
    "# driver = webdriver.Chrome(executable_path=\"C:/Users/leeyj/LYJPython/Driver/chromedriver.exe\")"
   ]
  },
  {
   "cell_type": "code",
   "execution_count": 4,
   "metadata": {},
   "outputs": [],
   "source": [
    "driver.get(url)"
   ]
  },
  {
   "cell_type": "code",
   "execution_count": 5,
   "metadata": {},
   "outputs": [],
   "source": [
    "driver.find_element(By.ID, \"btn_search\" ).click()"
   ]
  },
  {
   "cell_type": "code",
   "execution_count": 6,
   "metadata": {},
   "outputs": [],
   "source": [
    "search = driver.find_element(By.ID, \"ipt_keyword_recruit\")"
   ]
  },
  {
   "cell_type": "code",
   "execution_count": 7,
   "metadata": {},
   "outputs": [],
   "source": [
    "search.send_keys(\"로봇\")"
   ]
  },
  {
   "cell_type": "code",
   "execution_count": 8,
   "metadata": {},
   "outputs": [],
   "source": [
    "search.send_keys(Keys.ENTER)"
   ]
  },
  {
   "cell_type": "code",
   "execution_count": 9,
   "metadata": {},
   "outputs": [],
   "source": [
    "driver.find_element(By.CSS_SELECTOR,\"#recruit_info_list > div.content_bottom > div > a\").click()"
   ]
  },
  {
   "cell_type": "code",
   "execution_count": 10,
   "metadata": {},
   "outputs": [],
   "source": [
    "driver.find_element(By.XPATH,'''//*[@id=\"recruit_info_list\"]/div[2]/div/a[1]''').click()"
   ]
  },
  {
   "cell_type": "code",
   "execution_count": 11,
   "metadata": {},
   "outputs": [],
   "source": [
    "name_list = []    # 회사명\n",
    "url_list = []    # 공고 URL\n",
    "title_list = []    # 공고 제목\n",
    "region_list = []    # 근무지\n",
    "exp_list = []    # 경력 \n",
    "degree_list = []    # 학력\n",
    "position_list = []    # 고용 형태\n",
    "salary_list = []    # 연봉\n",
    "address_list = []    # 상세 주소\n",
    "welfare_list = []    # 사내 복지 \n",
    "statistics_list = []    # 지원자 통계\n",
    "comInfo_list = []    # 기업 정보\n",
    "detail_list = []    # 공고 내 html 세부정보\n",
    "tag_list = []    # 태그"
   ]
  },
  {
   "cell_type": "code",
   "execution_count": 13,
   "metadata": {},
   "outputs": [],
   "source": [
    "def find_info():\n",
    "    # 페이지 내 모든 공고문들이 들어있는 contents 변수 설정\n",
    "    contents = driver.find_element(By.CLASS_NAME,\"content\").find_elements(By.CLASS_NAME,\"item_recruit\")\n",
    "\n",
    "    for i in range(len(contents)):    # 공고들의 갯수만큼 반복\n",
    "        items = contents[i].find_element(By.CLASS_NAME,\"job_condition\").find_elements(By.TAG_NAME,\"span\")\n",
    "        if len(items) == 3:\n",
    "                name_list.append(contents[i].find_element(By.CLASS_NAME,\"corp_name\").text)    # 회사명\n",
    "                url_list.append(contents[i].find_element(By.CLASS_NAME,\"job_tit\").find_element(By.TAG_NAME,'a').get_attribute(\"href\")) # 공고 URL\n",
    "                title_list.append(contents[i].find_element(By.CLASS_NAME,\"job_tit\").text)    # 공고 제목\n",
    "                region_list.append(items[0].text)    # 근무지\n",
    "                exp_list.append(items[1].text)    # 경력\n",
    "                degree_list.append(items[2].text)    # 학력\n",
    "                position_list.append(\"\")    # 고용 형태\n",
    "                salary_list.append(\"\")    # 연봉\n",
    "\n",
    "        elif len(items) == 4:\n",
    "                name_list.append(contents[i].find_element(By.CLASS_NAME,\"corp_name\").text)    \n",
    "                url_list.append(contents[i].find_element(By.CLASS_NAME,\"job_tit\").find_element(By.TAG_NAME,'a').get_attribute(\"href\")) \n",
    "                title_list.append(contents[i].find_element(By.CLASS_NAME,\"job_tit\").text)    \n",
    "                region_list.append(items[0].text)\n",
    "                exp_list.append(items[1].text)\n",
    "                degree_list.append(items[2].text)\n",
    "                position_list.append(items[3].text)\n",
    "                salary_list.append(\"\")\n",
    "\n",
    "        elif len(items) == 5:\n",
    "                name_list.append(contents[i].find_element(By.CLASS_NAME,\"corp_name\").text)    \n",
    "                url_list.append(contents[i].find_element(By.CLASS_NAME,\"job_tit\").find_element(By.TAG_NAME,'a').get_attribute(\"href\")) \n",
    "                title_list.append(contents[i].find_element(By.CLASS_NAME,\"job_tit\").text)    \n",
    "                region_list.append(items[0].text)\n",
    "                exp_list.append(items[1].text)\n",
    "                degree_list.append(items[2].text)\n",
    "                position_list.append(items[3].text)\n",
    "                salary_list.append(items[4].text)\n",
    "\n",
    "        ### ---------- 공고클릭시 나오는 ------- ###\n",
    "        ### ---------- 세부정보 저장 ---------- ###\n",
    "        contents[i].find_element(By.TAG_NAME,\"a\").click()    \n",
    "        driver.implicitly_wait(1)\n",
    "        second_tab = driver.window_handles[1]   \n",
    "        driver.switch_to.window(window_name=second_tab)    # 드라이버 포커스를 새 탭(페이지)으로 이동\n",
    "        # 상세 주소\n",
    "        try:  \n",
    "            address_list.append(driver.find_element(By.CLASS_NAME,\"address\").text)    \n",
    "        except:\n",
    "            address_list.append(\"\")\n",
    "        # 사내 복지\n",
    "        try:\n",
    "            # 복리후생이 공고에 포함되있을 때 복지 더보기가 클릭 가능하다면 클릭하여 크롤링\n",
    "            if driver.find_element(By.CLASS_NAME,\"jv_cont.jv_benefit\").find_element(By.CLASS_NAME,\"jv_title\").text == \"복리후생\":\n",
    "                if driver.find_element(By.CLASS_NAME,\"jv_cont.jv_benefit\").find_element(By.CLASS_NAME,\"btn_more_cont\").click():\n",
    "                     welfare_list.append(driver.find_element(By.CLASS_NAME,\"jv_cont.jv_benefit\").find_element(By.CLASS_NAME,\"details\").text) \n",
    "        except:\n",
    "            pass\n",
    "        try:\n",
    "             # 복리후생이 공고에 포함되있을 때 복지 더보기가 없다면 그냥 크롤링\n",
    "             if driver.find_element(By.CLASS_NAME,\"jv_cont.jv_benefit\").find_element(By.CLASS_NAME,\"jv_title\").text == \"복리후생\":\n",
    "                  welfare_list.append(driver.find_element(By.CLASS_NAME,\"jv_cont.jv_benefit\").find_element(By.CLASS_NAME,\"details\").text)\n",
    "        except:\n",
    "             # 위의 도 조건에 부합하므로 빈 문자열을 사내 복지 리스트에 저장\n",
    "             welfare_list.append(\"\")\n",
    "        # 지원자 통계\n",
    "        ###---------- 지원자 통계를 보기위해 로그인 필요 ---------- ###\n",
    "        try:\n",
    "            driver.find_element(By.CLASS_NAME,\"jv_cont.jv_statics\").find_element(By.CLASS_NAME,\"btn_more_cont\").click() \n",
    "            statistics_list.append(driver.find_element(By.CLASS_NAME,\"jv_cont.jv_statics.expand\").find_element(By.CLASS_NAME,\"details\").text)\n",
    "        except:\n",
    "            statistics_list.append(\"\")\n",
    "        # 기업 정보\n",
    "        try:\n",
    "            comInfo_list.append(driver.find_element(By.CLASS_NAME,\"jv_cont.jv_company\").find_element(By.CLASS_NAME,\"info\").text) \n",
    "        except:\n",
    "            comInfo_list.append(\"\")\n",
    "        # 태그\n",
    "        try:\n",
    "            tmp = []\n",
    "            driver.find_element(By.CLASS_NAME,\"jv_cont.jv_footer\").find_element(By.CLASS_NAME,\"tags\").find_element(By.TAG_NAME,\"button\").click()\n",
    "            tags = driver.find_element(By.CLASS_NAME,\"jv_cont.jv_footer\").find_element(By.CLASS_NAME,\"tags.on\").find_elements(By.TAG_NAME,\"li\")\n",
    "            for i in range(len(tags)):\n",
    "                tmp.append(tags[i].text)\n",
    "            tag_list.append(tmp)\n",
    "        except:\n",
    "            tmp = []\n",
    "            tags = driver.find_element(By.CLASS_NAME,\"jv_cont.jv_footer\").find_element(By.CLASS_NAME,\"tags\").find_elements(By.TAG_NAME,\"li\")\n",
    "            for i in range(len(tags)):\n",
    "                tmp.append(tags[i].text)\n",
    "            tag_list.append(tmp)\n",
    "\n",
    "        # 채용 공고 html 이동\n",
    "        try:\n",
    "            # 공고 html로 드라이버 포커스를 이동\n",
    "            driver.switch_to.frame(driver.find_element(By.NAME,'iframe_content_0'))\n",
    "            if len(driver.find_element(By.CLASS_NAME,\"user_content\").text )>=1 == True:\n",
    "                print(\"텍스트 공고\")\n",
    "                detail_list.append(driver.find_element(By.CLASS_NAME,\"user_content\").text)\n",
    "            else:\n",
    "                print(\"사진 공고\")\n",
    "                detail_list.append(\"사진\")\n",
    "        except:\n",
    "            print(\"크롤링 불가\")    # 반복 실행 불가를 일으키는 오류는 pass\n",
    "            detail_list.append(\"\")\n",
    "            \n",
    "        driver.close()\n",
    "        first_tab = driver.window_handles[0]\n",
    "        driver.switch_to.window(window_name=first_tab)"
   ]
  },
  {
   "cell_type": "code",
   "execution_count": 14,
   "metadata": {},
   "outputs": [
    {
     "name": "stdout",
     "output_type": "stream",
     "text": [
      "텍스트 공고\n",
      "텍스트 공고\n",
      "텍스트 공고\n",
      "텍스트 공고\n",
      "텍스트 공고\n",
      "텍스트 공고\n",
      "텍스트 공고\n",
      "텍스트 공고\n",
      "텍스트 공고\n",
      "텍스트 공고\n",
      "텍스트 공고\n",
      "텍스트 공고\n",
      "텍스트 공고\n",
      "텍스트 공고\n",
      "텍스트 공고\n",
      "텍스트 공고\n",
      "텍스트 공고\n",
      "텍스트 공고\n",
      "텍스트 공고\n",
      "텍스트 공고\n",
      "텍스트 공고\n",
      "텍스트 공고\n",
      "텍스트 공고\n",
      "텍스트 공고\n",
      "텍스트 공고\n",
      "텍스트 공고\n",
      "텍스트 공고\n",
      "텍스트 공고\n",
      "텍스트 공고\n",
      "텍스트 공고\n",
      "텍스트 공고\n",
      "텍스트 공고\n",
      "텍스트 공고\n",
      "텍스트 공고\n",
      "텍스트 공고\n",
      "사진 공고\n",
      "텍스트 공고\n",
      "텍스트 공고\n",
      "텍스트 공고\n",
      "텍스트 공고\n"
     ]
    }
   ],
   "source": [
    "find_info()"
   ]
  },
  {
   "cell_type": "markdown",
   "metadata": {},
   "source": [
    "### 1~10페이지 저장"
   ]
  },
  {
   "cell_type": "code",
   "execution_count": null,
   "metadata": {},
   "outputs": [],
   "source": [
    "for k in range(len(driver.find_element(By.CLASS_NAME,\"pagination\").find_elements(By.TAG_NAME,\"span\"))):\n",
    "    find_info()\n",
    "    if k == len(driver.find_element(By.CLASS_NAME,\"pagination\").find_elements(By.TAG_NAME,\"span\")):\n",
    "        driver.find_element(By.CSS_SELECTOR,\"#recruit_info_list > div.content_bottom > div > a.btnNext.page_move.track_event\").click()\n",
    "    j = k+1    \n",
    "    cnt_str = '''//*[@id=\"recruit_info_list\"]/div[2]/div/a[''' + str(j) + \"]\"\n",
    "    driver.find_element(By.XPATH,cnt_str).click()\n",
    "    time.sleep(0.5)"
   ]
  },
  {
   "attachments": {},
   "cell_type": "markdown",
   "metadata": {},
   "source": [
    "### 11페이지 후부터 10 페이지 단위로 크롤링(11~20)"
   ]
  },
  {
   "cell_type": "code",
   "execution_count": null,
   "metadata": {},
   "outputs": [],
   "source": [
    "# for k in range(len(driver.find_element(By.CLASS_NAME,\"pagination\").find_elements(By.TAG_NAME,\"span\"))):\n",
    "#     find_info()\n",
    "#     if k == len(driver.find_element(By.CLASS_NAME,\"pagination\").find_elements(By.TAG_NAME,\"span\")):\n",
    "#         driver.find_element(By.CSS_SELECTOR,\"#recruit_info_list > div.content_bottom > div > a.btnNext.page_move.track_event\").click()\n",
    "#         break\n",
    "#     j = k+2    \n",
    "#     cnt_str = '''//*[@id=\"recruit_info_list\"]/div[2]/div/a[''' + str(j) + \"]\"\n",
    "#     driver.find_element(By.XPATH,cnt_str).click()\n",
    "#     time.sleep(0.5)"
   ]
  },
  {
   "attachments": {},
   "cell_type": "markdown",
   "metadata": {},
   "source": [
    "### 11페이지 후부터 \"다음\" 버튼이 존재하는 페이지 까지 반복하며 계속 크롤링"
   ]
  },
  {
   "cell_type": "code",
   "execution_count": null,
   "metadata": {},
   "outputs": [],
   "source": [
    "while True:\n",
    "    # 다음 버튼을 계속 클릭할 수 있는 경우 무한 반복하며 크롤링\n",
    "    # 다음 반복 여부를 flag에 저장\n",
    "    # 다음 버튼이 존재한다면 for문을 돌며 1~10페이지등의 반복을 수행\n",
    "    flag = len(driver.find_element(By.CSS_SELECTOR,\"#recruit_info_list > div.content_bottom > div > a.btnNext.page_move.track_event\").text)\n",
    "    if flag>=0:\n",
    "        for k in range(len(driver.find_element(By.CLASS_NAME,\"pagination\").find_elements(By.TAG_NAME,\"span\"))):\n",
    "            find_info()    # 한 페이지 내 크롤링\n",
    "            if k == len(driver.find_element(By.CLASS_NAME,\"pagination\").find_elements(By.TAG_NAME,\"span\")):    \n",
    "                # 페이지의 끝에 도달할 경우\n",
    "                # 다음 버튼을 클릭후 탈출하여 다시 flag를 검사\n",
    "                driver.find_element(By.CSS_SELECTOR,\"#recruit_info_list > div.content_bottom > div > a.btnNext.page_move.track_event\").click()\n",
    "                break\n",
    "            j = k+2    \n",
    "            cnt_str = '''//*[@id=\"recruit_info_list\"]/div[2]/div/a[''' + str(j) + \"]\"\n",
    "            driver.find_element(By.XPATH,cnt_str).click()\n",
    "            time.sleep(0.5)\n",
    "    else:\n",
    "        break    # 다음 버튼이 없으면 반복문 탈출"
   ]
  },
  {
   "cell_type": "code",
   "execution_count": 15,
   "metadata": {},
   "outputs": [
    {
     "name": "stdout",
     "output_type": "stream",
     "text": [
      "40 40 40 40 40 40 40 40 40 40 40 40\n"
     ]
    }
   ],
   "source": [
    "# 디버깅용 리스트 길이 확인\n",
    "print(len(name_list), len(title_list), len(url_list), len(region_list), len(exp_list), len(degree_list), len(position_list), len(detail_list), len(comInfo_list), len(welfare_list), len(statistics_list), len(tag_list))"
   ]
  },
  {
   "cell_type": "code",
   "execution_count": 17,
   "metadata": {},
   "outputs": [],
   "source": [
    "# 2차원 리스트인 tag_list를 1차원 형태로\n",
    "# tag_list의 # 버리기\n",
    "# for i in range(len(detail_list)):\n",
    "#     detail_list[i] = detail_list[i].strip()\n",
    "for i in range(len(tag_list)):\n",
    "    tag_list[i] = ','.join(tag_list[i])\n",
    "    tag_list[i] = str(tag_list[i]).replace(\"#\",\"\",True)"
   ]
  },
  {
   "cell_type": "markdown",
   "metadata": {},
   "source": [
    "#### 데이터 프레임으로 만든 후 저장"
   ]
  },
  {
   "cell_type": "code",
   "execution_count": 43,
   "metadata": {},
   "outputs": [],
   "source": [
    "saramin_df = pd.DataFrame({\"회사명\":name_list,\"직무\":title_list,\"URL\":url_list, \"근무지\":region_list,\"경력\":exp_list,\\\n",
    "    \"학위\":degree_list,\"유형\":position_list,\"사내복지\":welfare_list, \"상세 주소\":address_list, \"기업 정보\":comInfo_list, \"지원자 통계\":statistics_list, \"태그\":tag_list, \"세부정보\":detail_list})"
   ]
  },
  {
   "cell_type": "code",
   "execution_count": 47,
   "metadata": {},
   "outputs": [],
   "source": [
    "saramin_df.to_excel(\"../data/saramin_df.xlsx\",engine=\"xlsxwriter\")\n",
    "saramin_df.to_csv(\"../data/saramin_df.csv\",sep=\",\",encoding=\"utf-8\")"
   ]
  },
  {
   "cell_type": "code",
   "execution_count": 48,
   "metadata": {},
   "outputs": [],
   "source": [
    "driver.close()"
   ]
  }
 ],
 "metadata": {
  "kernelspec": {
   "display_name": "eda",
   "language": "python",
   "name": "python3"
  },
  "language_info": {
   "codemirror_mode": {
    "name": "ipython",
    "version": 3
   },
   "file_extension": ".py",
   "mimetype": "text/x-python",
   "name": "python",
   "nbconvert_exporter": "python",
   "pygments_lexer": "ipython3",
   "version": "3.8.10"
  },
  "vscode": {
   "interpreter": {
    "hash": "f098f6bfbe7a3ede0c94aa43b034f980c76d682b652079190f65c51618a7a38f"
   }
  }
 },
 "nbformat": 4,
 "nbformat_minor": 2
}
